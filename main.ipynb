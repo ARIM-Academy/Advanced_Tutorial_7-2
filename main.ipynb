{
 "cells": [
  {
   "cell_type": "markdown",
   "metadata": {},
   "source": [
    "# サンプルコード　セマンティックセグメンテーション（U-Net）"
   ]
  },
  {
   "cell_type": "code",
   "execution_count": null,
   "metadata": {},
   "outputs": [],
   "source": [
    "!git clone https://github.com/ARIM-Academy/Advanced_Tutorial_7-2.git\n",
    "%cd Advanced_Tutorial_7-2"
   ]
  },
  {
   "cell_type": "markdown",
   "metadata": {},
   "source": [
    "## 1.初期設定\n",
    "### ライブラリインストール"
   ]
  },
  {
   "cell_type": "code",
   "execution_count": null,
   "metadata": {},
   "outputs": [],
   "source": [
    "#汎用ライブラリ\n",
    "import matplotlib.pyplot as plt\n",
    "\n",
    "# モジュール\n",
    "from model import *\n",
    "from data import *"
   ]
  },
  {
   "cell_type": "markdown",
   "metadata": {},
   "source": [
    "## 2. データセットの準備\n",
    "microplasticsデータは「data/microplastics」フォルダに格納されており、これは二値分類タスクです。画像とマスクの入力形状は同じで、(バッチサイズ, 行数, 列数, チャネル = 1) という形になっています。\n",
    "\n",
    "### データアーギュメンテーション（データ水増し）"
   ]
  },
  {
   "cell_type": "code",
   "execution_count": null,
   "metadata": {},
   "outputs": [],
   "source": [
    "data_gen_args = dict(rotation_range=0.2,\n",
    "                    width_shift_range=0.05,\n",
    "                    height_shift_range=0.05,\n",
    "                    shear_range=0.05,\n",
    "                    zoom_range=0.05,\n",
    "                    horizontal_flip=True,\n",
    "                    fill_mode='nearest')\n",
    "\n",
    "myGene = trainGenerator(20,\n",
    "                        'data/microplastics/train',\n",
    "                        'image',\n",
    "                        'label',\n",
    "                        data_gen_args,\n",
    "                        save_to_dir = \"data/microplastics/train/aug\"\n",
    "                       )"
   ]
  },
  {
   "cell_type": "markdown",
   "metadata": {},
   "source": [
    "### 合成データの作成\n",
    "trainフォルダーには、imageファイルとmaskファイルがそれぞれ20枚あります。myGeneで定義されたデータアーギュメンテーションを3回まわすこと（num_batch = 3）で、それぞれ60枚の合成データを作成し、trainフォルダー配下の「aug」ファイルに格納します。"
   ]
  },
  {
   "cell_type": "code",
   "execution_count": null,
   "metadata": {},
   "outputs": [],
   "source": [
    "num_batch = 3\n",
    "for i,batch in enumerate(myGene):\n",
    "    if(i >= num_batch):\n",
    "        break"
   ]
  },
  {
   "cell_type": "markdown",
   "metadata": {},
   "source": [
    "## npyファイルの作成"
   ]
  },
  {
   "cell_type": "code",
   "execution_count": null,
   "metadata": {},
   "outputs": [],
   "source": [
    "train_image,train_mask = geneTrainNpy(\"data/microplastics/train/aug/\",\"data/microplastics/train/aug/\")\n",
    "np.save(\"data/train_image.npy\",train_image)\n",
    "np.save(\"data/train_mask.npy\",train_mask)"
   ]
  },
  {
   "cell_type": "markdown",
   "metadata": {},
   "source": [
    "## 3.セマンティックセグメンテーションのモデル構築（U-Net）"
   ]
  },
  {
   "cell_type": "code",
   "execution_count": null,
   "metadata": {},
   "outputs": [
    {
     "name": "stdout",
     "output_type": "stream",
     "text": [
      "Found 30 images belonging to 1 classes.\n",
      "Found 30 images belonging to 1 classes.\n",
      "Epoch 1/5\n",
      "\u001b[1m   8/2000\u001b[0m \u001b[37m━━━━━━━━━━━━━━━━━━━━\u001b[0m \u001b[1m1:26:33\u001b[0m 3s/step - accuracy: 0.6150 - loss: 0.6950"
     ]
    }
   ],
   "source": [
    "model = unet()\n",
    "\n",
    "# ModelCheckpoint の設定（損失値に基づいて最良モデルを保存）\n",
    "model_checkpoint = ModelCheckpoint('unet.keras', \n",
    "                                   monitor='loss', \n",
    "                                   verbose=1, \n",
    "                                   save_best_only=True)"
   ]
  },
  {
   "cell_type": "markdown",
   "metadata": {},
   "source": [
    "### 学習（パラメータ推定）"
   ]
  },
  {
   "cell_type": "code",
   "execution_count": null,
   "metadata": {},
   "outputs": [],
   "source": [
    "%%time\n",
    "history = model.fit(train_image,train_mask,\n",
    "                    batch_size = 100,\n",
    "                    epochs = 50,\n",
    "                    verbose = 1,\n",
    "                    validation_split = 0.2, \n",
    "                    shuffle = True,\n",
    "                    callbacks=[model_checkpoint]\n",
    "                   )"
   ]
  },
  {
   "cell_type": "code",
   "execution_count": null,
   "metadata": {},
   "outputs": [],
   "source": [
    "#history = model.fit(myGene,\n",
    "#                    steps_per_epoch=300,\n",
    "#                    epochs=10,\n",
    "#                    callbacks=[model_checkpoint]\n",
    "#                    )"
   ]
  },
  {
   "cell_type": "markdown",
   "metadata": {},
   "source": [
    "## 4.評価"
   ]
  },
  {
   "cell_type": "code",
   "execution_count": null,
   "metadata": {},
   "outputs": [],
   "source": [
    "train_loss,train_acc = model.evaluate(train_image,train_mask)\n",
    "\n",
    "print ('訓練データの損失関数の値', train_loss)\n",
    "print ('訓練データの分類精度',train_acc)"
   ]
  },
  {
   "cell_type": "markdown",
   "metadata": {},
   "source": [
    "### 結果出力"
   ]
  },
  {
   "cell_type": "code",
   "execution_count": null,
   "metadata": {},
   "outputs": [],
   "source": [
    "#損失関数の値\n",
    "loss = history.history['loss']\n",
    "val_loss=history.history['val_loss']"
   ]
  },
  {
   "cell_type": "code",
   "execution_count": null,
   "metadata": {},
   "outputs": [],
   "source": [
    "#損失関数の値の可視化\n",
    "plt.plot(loss, 'black', label='training')\n",
    "plt.plot(val_loss, 'red', label='test')\n",
    "\n",
    "plt.xlabel('Epoch')\n",
    "plt.ylabel('Loss')\n",
    "plt.legend()\n",
    "plt.show()"
   ]
  },
  {
   "cell_type": "code",
   "execution_count": null,
   "metadata": {},
   "outputs": [],
   "source": [
    "#分類精度\n",
    "acc = history.history['accuracy']\n",
    "val_acc=history.history['val_accuracy']"
   ]
  },
  {
   "cell_type": "code",
   "execution_count": null,
   "metadata": {},
   "outputs": [],
   "source": [
    "#分類精度の可視化\n",
    "plt.plot(acc, 'black', label='training')\n",
    "plt.plot(val_acc, 'red', label='test')\n",
    "\n",
    "plt.xlabel('Epoch')\n",
    "plt.ylabel('Accuracy')\n",
    "plt.legend()\n",
    "plt.show()"
   ]
  },
  {
   "cell_type": "markdown",
   "metadata": {},
   "source": [
    "### 5. テストデータによる検証"
   ]
  },
  {
   "cell_type": "code",
   "execution_count": null,
   "metadata": {},
   "outputs": [],
   "source": [
    "#model = unet()\n",
    "#model.load_weights(\"unet.keras\")"
   ]
  },
  {
   "cell_type": "code",
   "execution_count": null,
   "metadata": {},
   "outputs": [],
   "source": [
    "testGene = testGenerator(\"data/microplastics/test/image/\")\n",
    "\n",
    "results = model.predict(testGene,\n",
    "                        verbose=1)  # Remove 'steps' as you're providing the entire dataset"
   ]
  },
  {
   "cell_type": "markdown",
   "metadata": {},
   "source": [
    "### 結果の保存"
   ]
  },
  {
   "cell_type": "code",
   "execution_count": null,
   "metadata": {},
   "outputs": [],
   "source": [
    "saveResult(\"data/microplastics/test/image\",\"data/microplastics/test/image/test_results\",results)"
   ]
  }
 ],
 "metadata": {
  "kernelspec": {
   "display_name": "Python 3 (ipykernel)",
   "language": "python",
   "name": "python3"
  },
  "language_info": {
   "codemirror_mode": {
    "name": "ipython",
    "version": 3
   },
   "file_extension": ".py",
   "mimetype": "text/x-python",
   "name": "python",
   "nbconvert_exporter": "python",
   "pygments_lexer": "ipython3",
   "version": "3.12.4"
  }
 },
 "nbformat": 4,
 "nbformat_minor": 4
}
